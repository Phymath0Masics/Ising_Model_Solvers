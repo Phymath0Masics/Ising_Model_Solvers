{
 "cells": [
  {
   "cell_type": "markdown",
   "id": "7Ts5y9zqL-wc",
   "metadata": {
    "id": "7Ts5y9zqL-wc"
   },
   "source": [
    "##### Step 1: Import Required Libraries and Ising Solvers"
   ]
  },
  {
   "cell_type": "code",
   "execution_count": 1,
   "id": "d8c72577",
   "metadata": {
    "colab": {
     "base_uri": "https://localhost:8080/"
    },
    "executionInfo": {
     "elapsed": 57,
     "status": "ok",
     "timestamp": 1749505521694,
     "user": {
      "displayName": "Debraj Banerjee",
      "userId": "09448915602422410003"
     },
     "user_tz": -330
    },
    "id": "d8c72577",
    "outputId": "599808aa-0e18-41e2-b514-bea9eab92be9"
   },
   "outputs": [
    {
     "name": "stdout",
     "output_type": "stream",
     "text": [
      "Using device: cpu (Number of GPUs: 0)\n"
     ]
    }
   ],
   "source": [
    "# Import the libraries and Ising Solvers from module\n",
    "from Ising_Solvers import *\n",
    "\n",
    "import matplotlib.pyplot as plt\n",
    "from matplotlib.ticker import ScalarFormatter\n",
    "\n",
    "\n",
    "# Set a random seed\n",
    "torch.manual_seed(42)\n",
    "\n",
    "# Check device availability\n",
    "device = torch.device(\"cuda\" if torch.cuda.is_available() else \"cpu\")\n",
    "num_gpus = torch.cuda.device_count() if torch.cuda.is_available() else 0\n",
    "print(f\"Using device: {device} (Number of GPUs: {num_gpus})\")\n",
    "\n",
    "# Set default dtype and device for optimization\n",
    "torch.set_default_dtype(torch.float32)\n",
    "if device.type == 'cuda':\n",
    "    torch.set_default_device(device)"
   ]
  },
  {
   "cell_type": "markdown",
   "id": "58ae714f",
   "metadata": {
    "id": "58ae714f"
   },
   "source": [
    "##### Step 2.1: Generate small Ising Model Data"
   ]
  },
  {
   "cell_type": "code",
   "execution_count": 2,
   "id": "d25e739f",
   "metadata": {},
   "outputs": [
    {
     "name": "stdout",
     "output_type": "stream",
     "text": [
      "Computing matrix norms...\n",
      "Matrix 1-norm (max column sum): 1999.0000\n",
      "Matrix 2-norm (spectral norm): 89.4427\n"
     ]
    }
   ],
   "source": [
    "# Function to build a small coupling matrix\n",
    "\n",
    "n = 2000  # number of spins\n",
    "\n",
    "# Generate K2000 Ising model data\n",
    "J_mat = np.random.randn(n, n).astype(np.float32)\n",
    "J_mat = torch.from_numpy(J_mat).to(device)\n",
    "J_mat = (J_mat + J_mat.T) / 2  # Make symmetric\n",
    "J_mat = torch.where(J_mat >= 0, torch.tensor(1.0, device=device), torch.tensor(-1.0, device=device))  # Binarize to +1/-1\n",
    "J_mat.fill_diagonal_(0)  # No self-coupling\n",
    "\n",
    "\n",
    "print('Computing matrix norms...')\n",
    "\n",
    "# Compute required norms\n",
    "J_mat_1_norm, j_mat_2_norm = compute_matrix_norms(J_mat)\n",
    "\n",
    "\n",
    "print(f'Matrix 1-norm (max column sum): {J_mat_1_norm.item():.4f}')\n",
    "print(f'Matrix 2-norm (spectral norm): {j_mat_2_norm.item():.4f}')"
   ]
  },
  {
   "cell_type": "markdown",
   "id": "dd403d0f",
   "metadata": {},
   "source": [
    "##### Step 2.2: Generate large Ising Model Data"
   ]
  },
  {
   "cell_type": "code",
   "execution_count": 3,
   "id": "f2989f61",
   "metadata": {
    "colab": {
     "base_uri": "https://localhost:8080/"
    },
    "executionInfo": {
     "elapsed": 452,
     "status": "ok",
     "timestamp": 1749505522143,
     "user": {
      "displayName": "Debraj Banerjee",
      "userId": "09448915602422410003"
     },
     "user_tz": -330
    },
    "id": "f2989f61",
    "outputId": "cdc9df0c-2fc6-4716-c71e-d088917b5e54"
   },
   "outputs": [
    {
     "name": "stdout",
     "output_type": "stream",
     "text": [
      "CPU Memory: 30.47 GB\n",
      "CPU Cores: 16\n",
      "Matrix size: 100000 x 100000 = 10000000000 elements\n",
      "Non-zero elements: ~100000000 (1.0000000000%)\n",
      "Estimated memory (CSR format): ~0.56 GB\n",
      "Available memory: 9.67 GB\n",
      "Using 10 chunks with ~10000 rows per chunk\n",
      "Will reduce non-zeros if memory usage exceeds 90%\n",
      "Generating 100000x100000 sparse matrix with 99.0000000% sparsity\n",
      "Using CSR format for memory efficiency\n",
      "\n",
      "Processing chunk 0-10000 (10000 rows)\n",
      "Row 9000/9999 - Memory: 70.7% used, 9.6GB freeeMemory: 70.8% used, 9.6GB free\n",
      "Progress: 10.0% done, ~1.7 minutes remaining\n",
      "\n",
      "Processing chunk 10000-20000 (10000 rows)\n",
      "Row 19000/19999 - Memory: 73.4% used, 8.7GB freeMemory: 73.5% used, 8.7GB free\n",
      "Progress: 20.0% done, ~1.5 minutes remaining\n",
      "\n",
      "Processing chunk 20000-30000 (10000 rows)\n",
      "Row 29000/29999 - Memory: 75.3% used, 8.1GB freeMemory: 75.8% used, 7.9GB free\n",
      "Progress: 30.0% done, ~1.3 minutes remaining\n",
      "\n",
      "Processing chunk 30000-40000 (10000 rows)\n",
      "Row 39000/39999 - Memory: 78.0% used, 7.2GB freeMemory: 78.2% used, 7.1GB free\n",
      "Progress: 40.0% done, ~1.2 minutes remaining\n",
      "\n",
      "Processing chunk 40000-50000 (10000 rows)\n",
      "Row 49000/49999 - Memory: 80.4% used, 6.4GB freeMemory: 80.6% used, 6.3GB free\n",
      "Progress: 50.0% done, ~1.0 minutes remaining\n",
      "\n",
      "Processing chunk 50000-60000 (10000 rows)\n",
      "Row 59000/59999 - Memory: 82.8% used, 5.6GB freeMemory: 83.0% used, 5.6GB free\n",
      "Progress: 60.0% done, ~0.8 minutes remaining\n",
      "\n",
      "Processing chunk 60000-70000 (10000 rows)\n",
      "Row 69000/69999 - Memory: 85.0% used, 4.9GB freeMemory: 85.2% used, 4.8GB free\n",
      "Progress: 70.0% done, ~0.6 minutes remaining\n",
      "\n",
      "Processing chunk 70000-80000 (10000 rows)\n",
      "Row 79000/79999 - Memory: 86.9% used, 4.3GB freeMemory: 86.9% used, 4.3GB free\n",
      "Progress: 80.0% done, ~0.4 minutes remaining\n",
      "\n",
      "Processing chunk 80000-90000 (10000 rows)\n",
      "Row 89000/89999 - Memory: 88.0% used, 3.9GB freeMemory: 88.1% used, 3.9GB free\n",
      "Progress: 90.0% done, ~0.2 minutes remaining\n",
      "\n",
      "Processing chunk 90000-100000 (10000 rows)\n",
      "Row 99000/99999 - Memory: 89.1% used, 3.6GB freeMemory: 88.8% used, 3.7GB free\n",
      "Progress: 100.0% done, ~0.0 minutes remaining\n",
      "Constructing final upper triangular matrix...\n",
      "Creating symmetric matrix from upper triangular half...\n",
      "Generated matrix with shape (100000, 100000) and 198805628 non-zero elements\n",
      "Generation time: 136.19 seconds\n",
      "Peak memory usage: 88.8%\n",
      "Matrix memory usage: 1.11 GB\n",
      "Total generation time: 136.21 seconds\n",
      "Process completed successfully\n",
      "Total time taken: 136.21 seconds\n",
      "\n",
      "\n",
      "Size: 10^5.0 \n",
      "Sparsity: 98.01192383923839 %\n",
      "Processing 198805628 non-zero elements in 1000000x1000000 matrix\n",
      "Using memory-efficient approach\n",
      "Calculating j_mat_2_norm...\n"
     ]
    },
    {
     "name": "stderr",
     "output_type": "stream",
     "text": [
      "Summing squares: 100%|██████████| 198/198 [00:00<00:00, 4602.66chunk/s]"
     ]
    },
    {
     "name": "stdout",
     "output_type": "stream",
     "text": [
      "Converting to CSC format for column operations...\n"
     ]
    },
    {
     "name": "stderr",
     "output_type": "stream",
     "text": [
      "\n"
     ]
    },
    {
     "name": "stdout",
     "output_type": "stream",
     "text": [
      "Calculating J_mat_1_norm...\n"
     ]
    },
    {
     "name": "stderr",
     "output_type": "stream",
     "text": [
      "Processing columns: 100%|██████████| 100/100 [00:00<00:00, 141.44chunk/s]"
     ]
    },
    {
     "name": "stdout",
     "output_type": "stream",
     "text": [
      "Calculating j_bar in chunks...\n",
      "Generated large 100000x100000 symmetric coupling matrix\n"
     ]
    },
    {
     "name": "stderr",
     "output_type": "stream",
     "text": [
      "\n"
     ]
    }
   ],
   "source": [
    "# Function to build a large sparse coupling matrix using GPU acceleration\n",
    "\n",
    "n = 10**5\n",
    "sparsity = 0.99\n",
    "\n",
    "tt = time.time()\n",
    "\n",
    "J_mat = build_large_matrix(n, sparsity)\n",
    "\n",
    "\n",
    "print(f'Total time taken: {time.time() - tt:.2f} seconds')\n",
    "\n",
    "print('\\n')\n",
    "\n",
    "# calculate sparsity (ignore diagonal elements)\n",
    "sparsity_r = 1 - J_mat.nnz / (n*(n-1))\n",
    "print(f\"Size: 10^{np.log10(n)} \\nSparsity: {100*sparsity_r} %\")\n",
    "\n",
    "\n",
    "\n",
    "results = calculate_parameters_with_progress(J_mat, memory_efficient=True, chunk_size=10**4)\n",
    "\n",
    "# store results in j_bar and J_torch_1_norm\n",
    "j_bar = results['j_bar']\n",
    "J_torch_1_norm = results['J_mat_1_norm']\n",
    "j_mat_2_norm = results['j_mat_2_norm']\n",
    "\n",
    "print(f'Generated large {n}x{n} symmetric coupling matrix')"
   ]
  },
  {
   "cell_type": "markdown",
   "id": "438de8db",
   "metadata": {},
   "source": [
    "##### Step 3: Configure solver parameters"
   ]
  },
  {
   "cell_type": "code",
   "execution_count": 4,
   "id": "627e05b9",
   "metadata": {},
   "outputs": [
    {
     "name": "stdout",
     "output_type": "stream",
     "text": [
      "Solver parameters configured.\n"
     ]
    }
   ],
   "source": [
    "# Defaults for additional solvers\n",
    "beta0_sa = 1.0  # initial inverse temperature for SA\n",
    "\n",
    "\n",
    "c0_bsb = 0.5/(j_bar*np.sqrt(J_mat.shape[0]))\n",
    "a0_bsb = 1.0\n",
    "A_cim = 0.1\n",
    "k_sis = 0.5\n",
    "m_sis = 1.0\n",
    "zeta0_sis = 0.05\n",
    "beta0_sa = 1.0\n",
    "\n",
    "print(\"Solver parameters configured.\")"
   ]
  },
  {
   "cell_type": "markdown",
   "id": "dadbfddd",
   "metadata": {
    "id": "dadbfddd"
   },
   "source": [
    "##### Step 4: Set Runtime Parameters"
   ]
  },
  {
   "cell_type": "code",
   "execution_count": 5,
   "id": "4362ea00",
   "metadata": {
    "colab": {
     "base_uri": "https://localhost:8080/"
    },
    "executionInfo": {
     "elapsed": 23,
     "status": "ok",
     "timestamp": 1749505522215,
     "user": {
      "displayName": "Debraj Banerjee",
      "userId": "09448915602422410003"
     },
     "user_tz": -330
    },
    "id": "4362ea00",
    "outputId": "c4689fab-7cee-49d1-944d-847172b5f18b"
   },
   "outputs": [
    {
     "name": "stdout",
     "output_type": "stream",
     "text": [
      "Algorithm parameters:\n",
      "  - Main runtime: 10 seconds\n",
      "  - Tuning time per trial: 1 seconds\n",
      "  - Tuning rounds: 3\n",
      "  - Starting point initialized with 100000 random values\n",
      "\n",
      "Solvers initialized successfully!\n"
     ]
    }
   ],
   "source": [
    "# Runtime and tuning parameters\n",
    "max_run_time = 10      # seconds for main algorithm run\n",
    "max_tune_time = 1     # seconds for parameter tuning\n",
    "tune_res = 3            # rounds of tuning\n",
    "\n",
    "# Initialize random starting point\n",
    "x0 = torch.randn(n, device=device, dtype=torch.float32)\n",
    "\n",
    "print(f'Algorithm parameters:')\n",
    "print(f'  - Main runtime: {max_run_time} seconds')\n",
    "print(f'  - Tuning time per trial: {max_tune_time} seconds')\n",
    "print(f'  - Tuning rounds: {tune_res}')\n",
    "print(f'  - Starting point initialized with {n} random values')\n",
    "\n",
    "# Initialize solvers\n",
    "doch_solver = DOCH(device)\n",
    "adoch_solver = ADOCH(device)\n",
    "sa_solver = SA(device)\n",
    "bsb_solver = BSB(device)\n",
    "simcim_solver = SimCIM(device)\n",
    "sis_solver = SIS(device)\n",
    "print('\\nSolvers initialized successfully!')"
   ]
  },
  {
   "cell_type": "markdown",
   "id": "eae5bcef",
   "metadata": {
    "id": "eae5bcef"
   },
   "source": [
    "##### Step 5.1: DOCH Algorithm - Parameter Tuning"
   ]
  },
  {
   "cell_type": "code",
   "execution_count": 6,
   "id": "203f0da9",
   "metadata": {
    "colab": {
     "base_uri": "https://localhost:8080/"
    },
    "executionInfo": {
     "elapsed": 3037,
     "status": "ok",
     "timestamp": 1749505525253,
     "user": {
      "displayName": "Debraj Banerjee",
      "userId": "09448915602422410003"
     },
     "user_tz": -330
    },
    "id": "203f0da9",
    "outputId": "22cd87e8-3761-417a-c00c-1daea0758be8"
   },
   "outputs": [
    {
     "name": "stdout",
     "output_type": "stream",
     "text": [
      "Tuning DOCH algorithm parameters...\n",
      "\n",
      "Tuning round 1/3\n",
      "DOCH tuning round 1: tuned final Energy = -729068800.0000\n",
      "\n",
      "Tuning round 2/3\n",
      "DOCH tuning round 2: tuned final Energy = -730276480.0000\n",
      "\n",
      "Tuning round 3/3\n",
      "DOCH tuning round 3: tuned final Energy = -730784768.0000\n"
     ]
    }
   ],
   "source": [
    "print(\"Tuning DOCH algorithm parameters...\")\n",
    "\n",
    "# Initial eta range for DOCH\n",
    "Eta = np.linspace(0.1, 2, 10)\n",
    "\n",
    "best_energy = 0\n",
    "E_DOCH_best = []\n",
    "T_DOCH_best = []\n",
    "eta_DOCH = Eta[0]\n",
    "\n",
    "for round_num in range(tune_res):\n",
    "    print(f\"\\nTuning round {round_num + 1}/{tune_res}\")\n",
    "\n",
    "    for idx, eta in enumerate(Eta):\n",
    "        # Test this eta value\n",
    "        E_test, T_test, _ = doch_solver.solve(J_mat, x0, eta, j_mat_2_norm, J_mat_1_norm, max_tune_time)\n",
    "        if len(E_test) == 0:\n",
    "            continue\n",
    "\n",
    "        if best_energy > E_test[-1] or (round_num == 0 and idx == 0):  # Lower energy is better\n",
    "            best_energy = E_test[-1]\n",
    "            eta_DOCH = eta\n",
    "            best_idx = idx\n",
    "            E_DOCH_best = E_test\n",
    "            T_DOCH_best = T_test\n",
    "\n",
    "    # Refine search around best eta\n",
    "    if 'best_idx' not in locals():\n",
    "        continue\n",
    "    if best_idx == 0:\n",
    "        Eta = np.linspace(max(Eta[best_idx]/2, 1e-3), Eta[best_idx], 10)\n",
    "    elif best_idx == len(Eta)-1:\n",
    "        Eta = np.linspace(Eta[best_idx], Eta[best_idx]*2, 10)\n",
    "    else:\n",
    "        Eta = np.linspace(Eta[best_idx-1], Eta[best_idx+1], 10)\n",
    "\n",
    "    print(f'DOCH tuning round {round_num + 1}: tuned final Energy = {best_energy:.4f}')\n"
   ]
  },
  {
   "cell_type": "markdown",
   "id": "406f0aba",
   "metadata": {
    "id": "406f0aba"
   },
   "source": [
    "##### Step 5.2: Run DOCH Algorithm"
   ]
  },
  {
   "cell_type": "code",
   "execution_count": 7,
   "id": "ed43fa56",
   "metadata": {
    "colab": {
     "base_uri": "https://localhost:8080/"
    },
    "executionInfo": {
     "elapsed": 1084,
     "status": "ok",
     "timestamp": 1749505526339,
     "user": {
      "displayName": "Debraj Banerjee",
      "userId": "09448915602422410003"
     },
     "user_tz": -330
    },
    "id": "ed43fa56",
    "outputId": "9669a527-13b9-40e9-cad6-035e7436297e"
   },
   "outputs": [
    {
     "name": "stdout",
     "output_type": "stream",
     "text": [
      "Running DOCH algorithm...\n",
      "DOCH: 36 iter, 10.065s, Energy: -879016192.000\n",
      "DOCH completed in 10.066 seconds\n",
      "Final energy: -879016192.0000\n",
      "Total iterations: 36\n"
     ]
    }
   ],
   "source": [
    "print(\"Running DOCH algorithm...\")\n",
    "\n",
    "start_time = time.time()\n",
    "E_DOCH, T_DOCH, spins_DOCH = doch_solver.solve(J_mat, x0, eta_DOCH, j_mat_2_norm, J_mat_1_norm, max_run_time)\n",
    "doch_runtime = time.time() - start_time\n",
    "\n",
    "print(f\"\\nDOCH completed in {doch_runtime:.3f} seconds\")\n",
    "print(f\"Final energy: {E_DOCH[-1]:.4f}\")\n",
    "print(f\"Total iterations: {len(E_DOCH)}\")"
   ]
  },
  {
   "cell_type": "markdown",
   "id": "0cf26fd5",
   "metadata": {
    "id": "0cf26fd5"
   },
   "source": [
    "##### Step 6.1: ADOCH Algorithm - Parameter Tuning"
   ]
  },
  {
   "cell_type": "code",
   "execution_count": 8,
   "id": "0da6f028",
   "metadata": {
    "colab": {
     "base_uri": "https://localhost:8080/"
    },
    "executionInfo": {
     "elapsed": 3367,
     "status": "ok",
     "timestamp": 1749505529630,
     "user": {
      "displayName": "Debraj Banerjee",
      "userId": "09448915602422410003"
     },
     "user_tz": -330
    },
    "id": "0da6f028",
    "outputId": "cdd67d75-085c-46ed-f20d-da145a64de40"
   },
   "outputs": [
    {
     "name": "stdout",
     "output_type": "stream",
     "text": [
      "Tuning ADOCH algorithm parameters...\n",
      "\n",
      "Tuning round 1/3\n",
      "ADOCH tuning round 1: tuned final Energy = -535720448.0000\n",
      "\n",
      "Tuning round 2/3\n",
      "ADOCH tuning round 2: tuned final Energy = -827506944.0000\n",
      "\n",
      "Tuning round 3/3\n",
      "ADOCH tuning round 3: tuned final Energy = -843434048.0000\n"
     ]
    }
   ],
   "source": [
    "print(\"Tuning ADOCH algorithm parameters...\")\n",
    "\n",
    "# ADOCH typically works better with smaller eta values\n",
    "Eta = np.linspace(0.01, 0.2, 10)\n",
    "\n",
    "best_energy = 0\n",
    "E_ADOCH_best = []\n",
    "T_ADOCH_best = []\n",
    "eta_ADOCH = Eta[0]\n",
    "\n",
    "for round_num in range(tune_res):\n",
    "    print(f\"\\nTuning round {round_num + 1}/{tune_res}\")\n",
    "\n",
    "    for idx, eta in enumerate(Eta):\n",
    "        # Test this eta value\n",
    "        E_test, T_test, _ = adoch_solver.solve(J_mat, x0, eta, j_mat_2_norm, J_mat_1_norm, max_tune_time)\n",
    "\n",
    "        if len(E_test) == 0:\n",
    "            continue\n",
    "        if best_energy > E_test[-1] or (round_num == 0 and idx == 0):  # Lower energy is better\n",
    "            best_energy = E_test[-1]\n",
    "            eta_ADOCH = eta\n",
    "            best_idx = idx\n",
    "            E_ADOCH_best = E_test\n",
    "            T_ADOCH_best = T_test\n",
    "\n",
    "    # Refine search around best eta\n",
    "    if 'best_idx' not in locals():\n",
    "        continue\n",
    "    if best_idx == 0:\n",
    "        Eta = np.linspace(max(Eta[best_idx]/2, 1e-3), Eta[best_idx], 10)\n",
    "    elif best_idx == len(Eta)-1:\n",
    "        Eta = np.linspace(Eta[best_idx], Eta[best_idx]*2, 10)\n",
    "    else:\n",
    "        Eta = np.linspace(Eta[best_idx-1], Eta[best_idx+1], 10)\n",
    "\n",
    "    print(f'ADOCH tuning round {round_num + 1}: tuned final Energy = {best_energy:.4f}')\n"
   ]
  },
  {
   "cell_type": "markdown",
   "id": "b3f94123",
   "metadata": {
    "id": "b3f94123"
   },
   "source": [
    "##### Step 6.2: Run ADOCH Algorithm"
   ]
  },
  {
   "cell_type": "code",
   "execution_count": 9,
   "id": "b3fdf30c",
   "metadata": {
    "colab": {
     "base_uri": "https://localhost:8080/"
    },
    "executionInfo": {
     "elapsed": 1013,
     "status": "ok",
     "timestamp": 1749505530654,
     "user": {
      "displayName": "Debraj Banerjee",
      "userId": "09448915602422410003"
     },
     "user_tz": -330
    },
    "id": "b3fdf30c",
    "outputId": "90c17cb8-f85a-47f4-d332-fd832e3c4c25"
   },
   "outputs": [
    {
     "name": "stdout",
     "output_type": "stream",
     "text": [
      "Running ADOCH algorithm...\n",
      "ADOCH: 12 iter, 11.573s, Energy: -910341632.000\n",
      "ADOCH completed in 11.573 seconds\n",
      "Final energy: -910341632.0000\n",
      "Total iterations: 12\n"
     ]
    }
   ],
   "source": [
    "print(\"Running ADOCH algorithm...\")\n",
    "\n",
    "start_time = time.time()\n",
    "E_ADOCH, T_ADOCH, spins_ADOCH = adoch_solver.solve(J_mat, x0, eta_ADOCH, j_mat_2_norm, J_mat_1_norm, max_run_time)\n",
    "adoch_runtime = time.time() - start_time\n",
    "\n",
    "print(f\"\\nADOCH completed in {adoch_runtime:.3f} seconds\")\n",
    "print(f\"Final energy: {E_ADOCH[-1]:.4f}\")\n",
    "print(f\"Total iterations: {len(E_ADOCH)}\")"
   ]
  },
  {
   "cell_type": "markdown",
   "id": "908a617f",
   "metadata": {},
   "source": [
    "##### Step 7.1: Tune parameters for other Solvers"
   ]
  },
  {
   "cell_type": "code",
   "execution_count": 10,
   "id": "e7d09717",
   "metadata": {},
   "outputs": [
    {
     "name": "stdout",
     "output_type": "stream",
     "text": [
      "Tuning parameters for SA, BSB, SimCIM, and SIS...\n",
      "\n",
      "SA tuning round 1/3\n",
      "SA tuning round 1: beta0 = 1.7778, energy = 7409960.0000\n",
      "\n",
      "SA tuning round 2/3\n",
      "SA tuning round 2: beta0 = 1.6667, energy = 7359294.0000\n",
      "\n",
      "SA tuning round 3/3\n",
      "SA tuning round 3: beta0 = 0.8333, energy = 7342244.0000\n",
      "\n",
      "BSB tuning round 1/3\n",
      "BSB tuning round 1: dt = 0.1000, energy = -530962252.0000\n",
      "\n",
      "BSB tuning round 2/3\n",
      "BSB tuning round 2: dt = 0.2000, energy = -684361980.0000\n",
      "\n",
      "BSB tuning round 3/3\n",
      "BSB tuning round 3: dt = 0.2222, energy = -698667738.0000\n",
      "\n",
      "SimCIM tuning round 1/3\n",
      "SimCIM tuning round 1: dt = 0.0300, energy = -676418900.0000\n",
      "\n",
      "SimCIM tuning round 2/3\n",
      "SimCIM tuning round 2: dt = 0.0333, energy = -679407820.0000\n",
      "\n",
      "SimCIM tuning round 3/3\n",
      "SimCIM tuning round 3: dt = 0.0331, energy = -681219422.0000\n",
      "\n",
      "SIS tuning round 1/3\n",
      "SIS tuning round 1: dt = 0.0800, energy = -585411154.0000\n",
      "\n",
      "SIS tuning round 2/3\n",
      "SIS tuning round 2: dt = 0.0744, energy = -587462534.0000\n",
      "\n",
      "SIS tuning round 3/3\n",
      "\n",
      "Parameter tuning complete:\n",
      "  SA beta0: 0.8333\n",
      "  BSB dt: 0.2222\n",
      "  SimCIM dt: 0.0331\n",
      "  SIS dt: 0.0744\n"
     ]
    }
   ],
   "source": [
    "print(\"Tuning parameters for SA, BSB, SimCIM, and SIS...\")\n",
    "\n",
    "# SA beta tuning\n",
    "beta_candidates = np.linspace(1, 2, 10)\n",
    "best_energy_sa = float('inf')\n",
    "best_beta_sa = 1\n",
    "E_SA_best = []\n",
    "T_SA_best = []\n",
    "\n",
    "for round_idx in range(tune_res):\n",
    "    print(f\"\\nSA tuning round {round_idx + 1}/{tune_res}\")\n",
    "    best_idx_sa = None\n",
    "    for idx, beta in enumerate(beta_candidates):\n",
    "        E_test, T_test, _ = sa_solver.solve(J_mat, x0, beta, max_tune_time)\n",
    "        if not E_test:\n",
    "            continue\n",
    "        final_energy = E_test[-1]\n",
    "        if final_energy < best_energy_sa:\n",
    "            best_energy_sa = final_energy\n",
    "            best_beta_sa = beta\n",
    "            best_idx_sa = idx\n",
    "            E_SA_best = E_test\n",
    "            T_SA_best = T_test\n",
    "    if best_idx_sa is None:\n",
    "        continue\n",
    "    if best_idx_sa == 0:\n",
    "        beta_candidates = np.linspace(max(beta_candidates[best_idx_sa] / 2, 0.1), beta_candidates[best_idx_sa], 10)\n",
    "    elif best_idx_sa == len(beta_candidates) - 1:\n",
    "        beta_candidates = np.linspace(beta_candidates[best_idx_sa], beta_candidates[best_idx_sa] * 2, 10)\n",
    "    else:\n",
    "        beta_candidates = np.linspace(beta_candidates[best_idx_sa - 1], beta_candidates[best_idx_sa + 1], 10)\n",
    "    print(f\"SA tuning round {round_idx + 1}: beta0 = {best_beta_sa:.4f}, energy = {best_energy_sa:.4f}\")\n",
    "\n",
    "beta0_sa = best_beta_sa\n",
    "\n",
    "# BSB time-step tuning\n",
    "dt_candidates = np.linspace(0.01, 0.1, 10)\n",
    "best_energy_bsb = float('inf')\n",
    "best_dt_bsb = 1\n",
    "E_BSB_best = []\n",
    "T_BSB_best = []\n",
    "\n",
    "for round_idx in range(tune_res):\n",
    "    print(f\"\\nBSB tuning round {round_idx + 1}/{tune_res}\")\n",
    "    best_idx_bsb = None\n",
    "    for idx, dt in enumerate(dt_candidates):\n",
    "        E_test, T_test, _ = bsb_solver.solve(J_mat, x0, a0_bsb, c0_bsb, dt, max_tune_time)\n",
    "        if not E_test:\n",
    "            continue\n",
    "        final_energy = E_test[-1]\n",
    "        if final_energy < best_energy_bsb:\n",
    "            best_energy_bsb = final_energy\n",
    "            best_dt_bsb = dt\n",
    "            best_idx_bsb = idx\n",
    "            E_BSB_best = E_test\n",
    "            T_BSB_best = T_test\n",
    "    if best_idx_bsb is None:\n",
    "        continue\n",
    "    if best_idx_bsb == 0:\n",
    "        dt_candidates = np.linspace(max(dt_candidates[best_idx_bsb] / 2, 0.05), dt_candidates[best_idx_bsb], 10)\n",
    "    elif best_idx_bsb == len(dt_candidates) - 1:\n",
    "        dt_candidates = np.linspace(dt_candidates[best_idx_bsb], dt_candidates[best_idx_bsb] * 2, 10)\n",
    "    else:\n",
    "        dt_candidates = np.linspace(dt_candidates[best_idx_bsb - 1], dt_candidates[best_idx_bsb + 1], 10)\n",
    "    print(f\"BSB tuning round {round_idx + 1}: dt = {best_dt_bsb:.4f}, energy = {best_energy_bsb:.4f}\")\n",
    "\n",
    "dt_bsb = best_dt_bsb\n",
    "\n",
    "# SimCIM time-step tuning\n",
    "cim_candidates = np.linspace(0.01, 0.1, 10)\n",
    "best_energy_cim = float('inf')\n",
    "best_dt_cim = 1\n",
    "E_CIM_best = []\n",
    "T_CIM_best = []\n",
    "\n",
    "for round_idx in range(tune_res):\n",
    "    print(f\"\\nSimCIM tuning round {round_idx + 1}/{tune_res}\")\n",
    "    best_idx_cim = None\n",
    "    for idx, dt in enumerate(cim_candidates):\n",
    "        E_test, T_test, _ = simcim_solver.solve(J_mat, x0, A_cim, a0_bsb, c0_bsb, dt, max_tune_time)\n",
    "        if not E_test:\n",
    "            continue\n",
    "        final_energy = E_test[-1]\n",
    "        if final_energy < best_energy_cim:\n",
    "            best_energy_cim = final_energy\n",
    "            best_dt_cim = dt\n",
    "            best_idx_cim = idx\n",
    "            E_CIM_best = E_test\n",
    "            T_CIM_best = T_test\n",
    "    if best_idx_cim is None:\n",
    "        continue\n",
    "    if best_idx_cim == 0:\n",
    "        cim_candidates = np.linspace(max(cim_candidates[best_idx_cim] / 2, 0.05), cim_candidates[best_idx_cim], 10)\n",
    "    elif best_idx_cim == len(cim_candidates) - 1:\n",
    "        cim_candidates = np.linspace(cim_candidates[best_idx_cim], cim_candidates[best_idx_cim] * 2, 10)\n",
    "    else:\n",
    "        cim_candidates = np.linspace(cim_candidates[best_idx_cim - 1], cim_candidates[best_idx_cim + 1], 10)\n",
    "    print(f\"SimCIM tuning round {round_idx + 1}: dt = {best_dt_cim:.4f}, energy = {best_energy_cim:.4f}\")\n",
    "\n",
    "dt_cim = best_dt_cim\n",
    "\n",
    "# SIS delta_t tuning\n",
    "sis_candidates = np.linspace(0.01, 0.1, 10)\n",
    "best_energy_sis = float('inf')\n",
    "best_dt_sis = 1\n",
    "E_SIS_best = []\n",
    "T_SIS_best = []\n",
    "\n",
    "for round_idx in range(tune_res):\n",
    "    print(f\"\\nSIS tuning round {round_idx + 1}/{tune_res}\")\n",
    "    best_idx_sis = None\n",
    "    for idx, dt in enumerate(sis_candidates):\n",
    "        E_test, T_test, _ = sis_solver.solve(J_mat, x0, m_sis, k_sis, zeta0_sis, dt, max_tune_time)\n",
    "        if not E_test:\n",
    "            continue\n",
    "        final_energy = E_test[-1]\n",
    "        if final_energy < best_energy_sis:\n",
    "            best_energy_sis = final_energy\n",
    "            best_dt_sis = dt\n",
    "            best_idx_sis = idx\n",
    "            E_SIS_best = E_test\n",
    "            T_SIS_best = T_test\n",
    "    if best_idx_sis is None:\n",
    "        continue\n",
    "    if best_idx_sis == 0:\n",
    "        sis_candidates = np.linspace(max(sis_candidates[best_idx_sis] / 2, 0.05), sis_candidates[best_idx_sis], 10)\n",
    "    elif best_idx_sis == len(sis_candidates) - 1:\n",
    "        sis_candidates = np.linspace(sis_candidates[best_idx_sis], sis_candidates[best_idx_sis] * 2, 10)\n",
    "    else:\n",
    "        sis_candidates = np.linspace(sis_candidates[best_idx_sis - 1], sis_candidates[best_idx_sis + 1], 10)\n",
    "    print(f\"SIS tuning round {round_idx + 1}: dt = {best_dt_sis:.4f}, energy = {best_energy_sis:.4f}\")\n",
    "\n",
    "dt_sis = best_dt_sis\n",
    "\n",
    "print(\"\\nParameter tuning complete:\")\n",
    "print(f\"  SA beta0: {beta0_sa:.4f}\")\n",
    "print(f\"  BSB dt: {dt_bsb:.4f}\")\n",
    "print(f\"  SimCIM dt: {dt_cim:.4f}\")\n",
    "print(f\"  SIS dt: {dt_sis:.4f}\")"
   ]
  },
  {
   "cell_type": "markdown",
   "id": "06b53ae2",
   "metadata": {},
   "source": [
    "##### Step 7.2: Run Solvers (SA, BSB, SimCIM, SIS)"
   ]
  },
  {
   "cell_type": "code",
   "execution_count": null,
   "id": "5fe6c076",
   "metadata": {},
   "outputs": [
    {
     "name": "stdout",
     "output_type": "stream",
     "text": [
      "Running Solvers: SA, BSB, SimCIM, SIS...\n",
      "\n",
      "SA completed in 10.266 seconds | final energy -1362606.0000\n",
      "\n",
      "BSB completed in 10.407 seconds | final energy -872057840.0000\n",
      "\n",
      "SimCIM completed in 10.085 seconds | final energy -838268526.0000\n",
      "\n",
      "SIS completed in 10.006 seconds | final energy -860304218.0000\n"
     ]
    }
   ],
   "source": [
    "print(\"Running Solvers: SA, BSB, SimCIM, SIS...\")\n",
    "\n",
    "# SA\n",
    "start_time = time.time()\n",
    "E_SA, T_SA, spins_SA = sa_solver.solve(J_mat, x0, beta0_sa, max_run_time)\n",
    "print(f\"\\nSA completed in {time.time()-start_time:.3f} seconds | final energy {E_SA[-1]:.4f}\")\n",
    "\n",
    "# BSB\n",
    "start_time = time.time()\n",
    "E_BSB, T_BSB, spins_BSB = bsb_solver.solve(J_mat, x0, a0_bsb, c0_bsb, dt_bsb, max_run_time)\n",
    "print(f\"\\nBSB completed in {time.time()-start_time:.3f} seconds | final energy {E_BSB[-1]:.4f}\")\n",
    "\n",
    "# SimCIM\n",
    "start_time = time.time()\n",
    "E_CIM, T_CIM, spins_CIM = simcim_solver.solve(J_mat, x0, A_cim, a0_bsb, c0_bsb, dt_cim, max_run_time)\n",
    "print(f\"\\nSimCIM completed in {time.time()-start_time:.3f} seconds | final energy {E_CIM[-1]:.4f}\")\n",
    "\n",
    "# SIS\n",
    "start_time = time.time()\n",
    "E_SIS, T_SIS, spins_SIS = sis_solver.solve(J_mat, x0, m_sis, k_sis, zeta0_sis, dt_sis, max_run_time)\n",
    "print(f\"\\nSIS completed in {time.time()-start_time:.3f} seconds | final energy {E_SIS[-1]:.4f}\")"
   ]
  },
  {
   "cell_type": "markdown",
   "id": "85f6d42e",
   "metadata": {
    "id": "85f6d42e"
   },
   "source": [
    "##### Step 8: Compare Results\n",
    "\n",
    "(The sparse matrix multiplication in PyTorch, used for speedup, involves randomization, so results may vary even with fixed seeds. Run it multiple times to observe differences.)"
   ]
  },
  {
   "cell_type": "code",
   "execution_count": 23,
   "id": "7dbdb986",
   "metadata": {
    "colab": {
     "base_uri": "https://localhost:8080/"
    },
    "executionInfo": {
     "elapsed": 9,
     "status": "ok",
     "timestamp": 1749505530678,
     "user": {
      "displayName": "Debraj Banerjee",
      "userId": "09448915602422410003"
     },
     "user_tz": -330
    },
    "id": "7dbdb986",
    "outputId": "09acf546-2205-4d1a-da71-756ccbbd2d55"
   },
   "outputs": [
    {
     "name": "stdout",
     "output_type": "stream",
     "text": [
      "ALGORITHM COMPARISON RESULTS\n",
      "============================\n",
      "Problem size: 100000 spins\n",
      "Runtime per algorithm: 10 seconds\n",
      "\n",
      "Final Results:\n",
      "  DOCH  final energy: -879016192.000000\n",
      "  ADOCH final energy: -910341632.000000\n",
      "  SA    final energy: -1362606.000000\n",
      "  BSB   final energy: -872057840.000000\n",
      "  SimCIM final energy: -838268526.000000\n",
      "  SIS   final energy: -860304218.000000\n",
      "\n",
      "Convergence Analysis:\n",
      "  DOCH  iterations: 36\n",
      "  ADOCH iterations: 12\n",
      "  SA    iterations: 73\n",
      "  BSB   iterations: 25\n",
      "  SimCIM iterations: 24\n",
      "  SIS   iterations: 24\n"
     ]
    }
   ],
   "source": [
    "print(\"ALGORITHM COMPARISON RESULTS\")\n",
    "print(\"=\" * 28)\n",
    "\n",
    "print(f\"Problem size: {n} spins\")\n",
    "print(f\"Runtime per algorithm: {max_run_time} seconds\")\n",
    "print(\"\\nFinal Results:\")\n",
    "print(f\"  DOCH  final energy: {E_DOCH[-1]:.6f}\")\n",
    "print(f\"  ADOCH final energy: {E_ADOCH[-1]:.6f}\")\n",
    "if 'E_SA' in globals() and len(E_SA) > 0:\n",
    "    print(f\"  SA    final energy: {E_SA[-1]:.6f}\")\n",
    "if 'E_BSB' in globals() and len(E_BSB) > 0:\n",
    "    print(f\"  BSB   final energy: {E_BSB[-1]:.6f}\")\n",
    "if 'E_CIM' in globals() and len(E_CIM) > 0:\n",
    "    print(f\"  SimCIM final energy: {E_CIM[-1]:.6f}\")\n",
    "if 'E_SIS' in globals() and len(E_SIS) > 0:\n",
    "    print(f\"  SIS   final energy: {E_SIS[-1]:.6f}\")\n",
    "\n",
    "print(f\"\\nConvergence Analysis:\")\n",
    "print(f\"  DOCH  iterations: {len(E_DOCH)}\")\n",
    "print(f\"  ADOCH iterations: {len(E_ADOCH)}\")\n",
    "if 'E_SA' in globals():\n",
    "    print(f\"  SA    iterations: {len(E_SA)}\")\n",
    "if 'E_BSB' in globals():\n",
    "    print(f\"  BSB   iterations: {len(E_BSB)}\")\n",
    "if 'E_CIM' in globals():\n",
    "    print(f\"  SimCIM iterations: {len(E_CIM)}\")\n",
    "if 'E_SIS' in globals():\n",
    "    print(f\"  SIS   iterations: {len(E_SIS)}\")\n",
    "\n",
    "# Prepare data for bar plots\n",
    "labels = ['DOCH', 'ADOCH']\n",
    "energies = [E_DOCH[-1], E_ADOCH[-1]]\n",
    "iters = [len(E_DOCH), len(E_ADOCH)]\n",
    "if 'E_SA' in globals() and len(E_SA) > 0:\n",
    "    labels.append('SA'); energies.append(E_SA[-1]); iters.append(len(E_SA))\n",
    "if 'E_BSB' in globals() and len(E_BSB) > 0:\n",
    "    labels.append('BSB'); energies.append(E_BSB[-1]); iters.append(len(E_BSB))\n",
    "if 'E_CIM' in globals() and len(E_CIM) > 0:\n",
    "    labels.append('SimCIM'); energies.append(E_CIM[-1]); iters.append(len(E_CIM))\n",
    "if 'E_SIS' in globals() and len(E_SIS) > 0:\n",
    "    labels.append('SIS'); energies.append(E_SIS[-1]); iters.append(len(E_SIS))\n",
    "\n"
   ]
  },
  {
   "cell_type": "markdown",
   "id": "3cfdb669",
   "metadata": {
    "id": "3cfdb669"
   },
   "source": [
    "##### Step 9: Plot Results"
   ]
  },
  {
   "cell_type": "code",
   "execution_count": 24,
   "id": "07d92fd3",
   "metadata": {
    "colab": {
     "base_uri": "https://localhost:8080/",
     "height": 966
    },
    "executionInfo": {
     "elapsed": 1156,
     "status": "ok",
     "timestamp": 1749505531842,
     "user": {
      "displayName": "Debraj Banerjee",
      "userId": "09448915602422410003"
     },
     "user_tz": -330
    },
    "id": "07d92fd3",
    "outputId": "b518c8cf-cb8e-4efd-92d0-00e3a026990a"
   },
   "outputs": [
    {
     "data": {
      "image/png": "[encoded data removed]",
      "text/plain": [
       "<Figure size 640x480 with 1 Axes>"
      ]
     },
     "metadata": {},
     "output_type": "display_data"
    },
    {
     "data": {
      "image/png": "[encoded data removed]",
      "text/plain": [
       "<Figure size 640x480 with 1 Axes>"
      ]
     },
     "metadata": {},
     "output_type": "display_data"
    },
    {
     "data": {
      "image/png": "[encoded data removed]",
      "text/plain": [
       "<Figure size 640x480 with 2 Axes>"
      ]
     },
     "metadata": {},
     "output_type": "display_data"
    }
   ],
   "source": [
    "# Main convergence plot\n",
    "plt.figure()\n",
    "plt.plot(T_DOCH, E_DOCH, label='DOCH', color='green', linewidth=2, alpha=0.8)\n",
    "plt.plot(T_ADOCH, E_ADOCH, label='ADOCH', color='red', linewidth=2, alpha=0.8)\n",
    "if 'T_SA' in globals():\n",
    "    plt.plot(T_SA, E_SA, label='SA', color='y', linewidth=1.5, alpha=0.8)\n",
    "if 'T_BSB' in globals():\n",
    "    plt.plot(T_BSB, E_BSB, label='BSB', color='m', linewidth=1.5, alpha=0.8)\n",
    "if 'T_CIM' in globals():\n",
    "    plt.plot(T_CIM, E_CIM, label='SimCIM', color='orange', linewidth=1.5, alpha=0.8)\n",
    "if 'T_SIS' in globals():\n",
    "    plt.plot(T_SIS, E_SIS, label='SIS', color='c', linewidth=1.5, alpha=0.8)\n",
    "\n",
    "plt.xscale('log')\n",
    "plt.grid(True, which=\"both\", ls=\"--\", alpha=0.7)\n",
    "plt.xlabel('Time (seconds)')\n",
    "plt.ylabel('Ising Energy')\n",
    "plt.title(f'Benchmarking Ising model solvers ({n} spins)')\n",
    "plt.legend(fontsize=10)\n",
    "\n",
    "# Format y-axis for scientific notation\n",
    "formatter = ScalarFormatter(useMathText=True)\n",
    "formatter.set_scientific(True)\n",
    "formatter.set_powerlimits((0, 0))\n",
    "plt.gca().yaxis.set_major_formatter(formatter)\n",
    "\n",
    "# Zoomed view of the final convergence \n",
    "plt.figure()\n",
    "# Show last 50% of the convergence\n",
    "if len(T_DOCH) > 1:\n",
    "    doch_start = len(T_DOCH) // 2\n",
    "    plt.plot(T_DOCH[doch_start:], E_DOCH[doch_start:], label='DOCH (final)', color='green', linewidth=2, alpha=0.8)\n",
    "if len(T_ADOCH) > 1:\n",
    "    adoch_start = len(T_ADOCH) // 2\n",
    "    plt.plot(T_ADOCH[adoch_start:], E_ADOCH[adoch_start:], label='ADOCH (final)', color='red', linewidth=2, alpha=0.8)\n",
    "# if 'T_SA' in globals() and len(T_SA) > 1:\n",
    "#     sa_start = len(T_SA) // 2\n",
    "#     plt.plot(T_SA[sa_start:], E_SA[sa_start:], label='SA (final)', color='y', linewidth=1.5, alpha=0.8)\n",
    "if 'T_BSB' in globals() and len(T_BSB) > 1:\n",
    "    bsb_start = len(T_BSB) // 2\n",
    "    plt.plot(T_BSB[bsb_start:], E_BSB[bsb_start:], label='BSB (final)', color='m', linewidth=1.5, alpha=0.8)\n",
    "if 'T_CIM' in globals() and len(T_CIM) > 1:\n",
    "    cim_start = len(T_CIM) // 2\n",
    "    plt.plot(T_CIM[cim_start:], E_CIM[cim_start:], label='SimCIM (final)', color='orange', linewidth=1.5, alpha=0.8)\n",
    "if 'T_SIS' in globals() and len(T_SIS) > 1:\n",
    "    sis_start = len(T_SIS) // 2\n",
    "    plt.plot(T_SIS[sis_start:], E_SIS[sis_start:], label='SIS (final)', color='c', linewidth=1.5, alpha=0.8)\n",
    "\n",
    "plt.grid(True, alpha=0.7)\n",
    "plt.xlabel('Time (seconds)')\n",
    "plt.ylabel('Ising Energy')\n",
    "plt.title('Final Convergence Behavior (Zoomed View)', fontsize=12)\n",
    "plt.legend()\n",
    "\n",
    "\n",
    "# iterations and final energy plot\n",
    "fig, ax1 = plt.subplots()\n",
    "\n",
    "color_map = {'DOCH': 'green', 'ADOCH': 'red', 'SA': 'y', 'BSB': 'm', 'SimCIM': 'orange', 'SIS': 'c'}\n",
    "colors = [color_map.get(lbl, 'tab:blue') for lbl in labels]\n",
    "x = np.arange(len(labels))\n",
    "\n",
    "# Plot iterations on primary y-axis\n",
    "bars1 = ax1.bar(x, iters, color=colors, alpha=0.85)\n",
    "ax1.set_ylabel('Iterations')\n",
    "ax1.set_xticks(x)\n",
    "ax1.set_xticklabels(labels)\n",
    "ax1.set_title('Algorithm Comparison: Iterations and Final Energy')\n",
    "ax1.grid(axis='y', linestyle='--', alpha=0.6)\n",
    "\n",
    "# Create secondary y-axis for final energy\n",
    "ax2 = ax1.twinx()\n",
    "bars2 = ax2.plot(x, energies, color='black', marker='o', linestyle='--', label='Final Ising Energy')\n",
    "ax2.set_ylabel('Final Ising Energy')\n",
    "\n",
    "plt.tight_layout()\n",
    "plt.show()"
   ]
  }
 ],
 "metadata": {
  "colab": {
   "collapsed_sections": [
    "7Ts5y9zqL-wc",
    "b619df4e",
    "dadbfddd",
    "eae5bcef",
    "406f0aba",
    "0cf26fd5",
    "b3f94123"
   ],
   "provenance": []
  },
  "kernelspec": {
   "display_name": "base",
   "language": "python",
   "name": "python3"
  },
  "language_info": {
   "codemirror_mode": {
    "name": "ipython",
    "version": 3
   },
   "file_extension": ".py",
   "mimetype": "text/x-python",
   "name": "python",
   "nbconvert_exporter": "python",
   "pygments_lexer": "ipython3",
   "version": "3.13.5"
  }
 },
 "nbformat": 4,
 "nbformat_minor": 5
}
